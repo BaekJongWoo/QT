{
 "cells": [
  {
   "cell_type": "code",
   "execution_count": 13,
   "metadata": {},
   "outputs": [
    {
     "name": "stdout",
     "output_type": "stream",
     "text": [
      "[[1.+0.j]\n",
      " [0.+0.j]\n",
      " [0.+0.j]\n",
      " [0.+0.j]]\n"
     ]
    }
   ],
   "source": [
    "import numpy as np\n",
    "\n",
    "A = np.array([[complex(1,0)], [complex(0,0)]])\n",
    "B = np.array([[complex(1,0)], [complex(0,0)]])\n",
    "\n",
    "C = np.kron(A,B)\n",
    "\n",
    "print(C)\n"
   ]
  },
  {
   "cell_type": "code",
   "execution_count": 8,
   "metadata": {},
   "outputs": [
    {
     "name": "stdout",
     "output_type": "stream",
     "text": [
      "Control_zero: [array([[1.+0.j, 0.+0.j],\n",
      "       [0.+0.j, 1.+0.j]]), array([[1.+0.j, 0.+0.j],\n",
      "       [0.+0.j, 1.+0.j]]), array([[1.+0.j, 0.+0.j],\n",
      "       [0.+0.j, 1.+0.j]])]\n",
      "[[1.+0.j 0.+0.j 0.+0.j 0.+0.j 0.+0.j 0.+0.j 0.+0.j 0.+0.j]\n",
      " [0.+0.j 1.+0.j 0.+0.j 0.+0.j 0.+0.j 0.+0.j 0.+0.j 0.+0.j]\n",
      " [0.+0.j 0.+0.j 1.+0.j 0.+0.j 0.+0.j 0.+0.j 0.+0.j 0.+0.j]\n",
      " [0.+0.j 0.+0.j 0.+0.j 1.+0.j 0.+0.j 0.+0.j 0.+0.j 0.+0.j]\n",
      " [0.+0.j 0.+0.j 0.+0.j 0.+0.j 0.+0.j 1.+0.j 0.+0.j 0.+0.j]\n",
      " [0.+0.j 0.+0.j 0.+0.j 0.+0.j 1.+0.j 0.+0.j 0.+0.j 0.+0.j]\n",
      " [0.+0.j 0.+0.j 0.+0.j 0.+0.j 0.+0.j 0.+0.j 0.+0.j 1.+0.j]\n",
      " [0.+0.j 0.+0.j 0.+0.j 0.+0.j 0.+0.j 0.+0.j 1.+0.j 0.+0.j]]\n"
     ]
    }
   ],
   "source": [
    "import numpy as np\n",
    "\n",
    "def controlled_x_gate_kron(num_qubits, control, target):\n",
    "    \"\"\"\n",
    "    Create a C_i X_j gate matrix using Kronecker product for num_qubits qubits.\n",
    "\n",
    "    Parameters:\n",
    "    num_qubits (int): Total number of qubits.\n",
    "    control (int): The index of the control qubit (0-based).\n",
    "    target (int): The index of the target qubit (0-based).\n",
    "\n",
    "    Returns:\n",
    "    numpy.ndarray: The 2^num_qubits x 2^num_qubits matrix representing the C_i X_j gate.\n",
    "    \"\"\"\n",
    "    # Define basic gate matrices\n",
    "    I = np.array([[1, 0], [0, 1]], dtype=complex)  # Identity matrix\n",
    "    X = np.array([[0, 1], [1, 0]], dtype=complex)  # Pauli-X matrix\n",
    "    zero_proj = np.array([[1, 0], [0, 0]], dtype=complex)  # |0><0| projector\n",
    "    one_proj = np.array([[0, 0], [0, 1]], dtype=complex)   # |1><1| projector\n",
    "\n",
    "    # Create the identity matrix for control qubit being |0>\n",
    "    control_zero = [I] * num_qubits\n",
    "    control_zero[control] = zero_proj  # Projector for |0> state at control qubit\n",
    "    control_zero_gate = control_zero[0]\n",
    "    for mat in control_zero[1:]:\n",
    "        control_zero_gate = np.kron(control_zero_gate, mat)\n",
    "\n",
    "    # Create the gate for control qubit being |1> and applying X on target\n",
    "    control_one = [I] * num_qubits\n",
    "    control_one[control] = one_proj  # Projector for |1> state at control qubit\n",
    "    control_one[target] = X  # X gate at target qubit\n",
    "    control_one_gate = control_one[0]\n",
    "    for mat in control_one[1:]:\n",
    "        control_one_gate = np.kron(control_one_gate, mat)\n",
    "\n",
    "    # Sum the two matrices\n",
    "    full_gate = control_zero_gate + control_one_gate\n",
    "\n",
    "    return full_gate\n",
    "\n",
    "# Example usage:\n",
    "num_qubits = 3\n",
    "control_qubit = 0\n",
    "target_qubit = 2\n",
    "cx_gate_kron = controlled_x_gate_kron(num_qubits, control_qubit, target_qubit)\n",
    "print(cx_gate_kron)\n"
   ]
  },
  {
   "cell_type": "code",
   "execution_count": 28,
   "metadata": {},
   "outputs": [
    {
     "ename": "NameError",
     "evalue": "name 'qc' is not defined",
     "output_type": "error",
     "traceback": [
      "\u001b[1;31m---------------------------------------------------------------------------\u001b[0m",
      "\u001b[1;31mNameError\u001b[0m                                 Traceback (most recent call last)",
      "Cell \u001b[1;32mIn[29], line 1\u001b[0m\n\u001b[1;32m----> 1\u001b[0m base \u001b[38;5;241m=\u001b[39m np\u001b[38;5;241m.\u001b[39meye(\u001b[38;5;241m2\u001b[39m\u001b[38;5;241m*\u001b[39m\u001b[38;5;241m*\u001b[39m\u001b[43mqc\u001b[49m\u001b[38;5;241m.\u001b[39msize)\n",
      "\u001b[1;31mNameError\u001b[0m: name 'qc' is not defined"
     ]
    }
   ],
   "source": [
    "import numpy as np\n",
    "\n",
    "def swap_gate(n, i, j):\n",
    "    low = [\n",
    "        np.array([[1,0],[0,0]]),\n",
    "        np.array([[0,0],[1,0]]),\n",
    "        np.array([[0,1],[0,0]]),\n",
    "        np.array([[0,0],[0,1]]),\n",
    "    ]\n",
    "    high = [\n",
    "        np.array([[1,0],[0,0]]),\n",
    "        np.array([[0,1],[0,0]]),\n",
    "        np.array([[0,0],[1,0]]),\n",
    "        np.array([[0,0],[0,1]]),\n",
    "    ]\n",
    "\n",
    "    if (i > j):\n",
    "        i, j = j, i\n",
    "    \n",
    "    I = np.array([[1,0],[0,1]])\n",
    "\n",
    "    gate = 0\n",
    "    for phase in range(4):\n",
    "        quater_gate = 1\n",
    "        for idx in range(n):\n",
    "            if (idx == i):\n",
    "                quater_gate = np.kron(low[phase], quater_gate)\n",
    "            elif (idx == j):\n",
    "                quater_gate = np.kron(high[phase], quater_gate)\n",
    "            else:\n",
    "                quater_gate = np.kron(I, quater_gate)\n",
    "        gate += quater_gate\n",
    "\n",
    "    return gate\n",
    "\n",
    "\n",
    "# 예제: 3개의 큐빗에서 0번과 2번 큐빗을 스왑하는 스왑 게이트\n",
    "swap_3q = swap_gate(4, 0, 1)\n",
    "print(\"3-큐빗 시스템의 0번과 2번 큐빗 스왑 게이트 행렬:\")\n",
    "print(swap_3q)\n"
   ]
  },
  {
   "cell_type": "code",
   "execution_count": 31,
   "metadata": {},
   "outputs": [
    {
     "name": "stdout",
     "output_type": "stream",
     "text": [
      "[[1. 0. 0. 0. 0. 0. 0. 0.]\n",
      " [0. 1. 0. 0. 0. 0. 0. 0.]\n",
      " [0. 0. 1. 0. 0. 0. 0. 0.]\n",
      " [0. 0. 0. 1. 0. 0. 0. 0.]\n",
      " [0. 0. 0. 0. 1. 0. 0. 0.]\n",
      " [0. 0. 0. 0. 0. 1. 0. 0.]\n",
      " [0. 0. 0. 0. 0. 0. 1. 0.]\n",
      " [0. 0. 0. 0. 0. 0. 0. 1.]]\n"
     ]
    }
   ],
   "source": [
    "size = 3\n",
    "\n",
    "base = np.eye(2**size)\n",
    "\n",
    "print(base)"
   ]
  }
 ],
 "metadata": {
  "kernelspec": {
   "display_name": "Python 3",
   "language": "python",
   "name": "python3"
  },
  "language_info": {
   "codemirror_mode": {
    "name": "ipython",
    "version": 3
   },
   "file_extension": ".py",
   "mimetype": "text/x-python",
   "name": "python",
   "nbconvert_exporter": "python",
   "pygments_lexer": "ipython3",
   "version": "3.12.7"
  }
 },
 "nbformat": 4,
 "nbformat_minor": 2
}
